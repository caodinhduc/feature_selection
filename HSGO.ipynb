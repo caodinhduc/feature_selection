{
 "cells": [
  {
   "cell_type": "code",
   "execution_count": 1,
   "metadata": {
    "id": "dy8G__zNbkKa"
   },
   "outputs": [],
   "source": [
    "import pandas as pd\n",
    "import numpy as np\n",
    "from PIL import Image\n",
    "import os\n",
    "import sys"
   ]
  },
  {
   "cell_type": "code",
   "execution_count": 2,
   "metadata": {
    "id": "Jlqb65KjY-mq"
   },
   "outputs": [],
   "source": [
    "# load data\n",
    "df_train = pd.read_csv('train.csv')\n",
    "train_y = df_train['Flood'].tolist()\n",
    "train_x = df_train.iloc[:, 1:]"
   ]
  },
  {
   "cell_type": "code",
   "execution_count": 3,
   "metadata": {
    "id": "zWrWPrSDcOQw"
   },
   "outputs": [],
   "source": [
    "# train_x = train_x.to_numpy()"
   ]
  },
  {
   "cell_type": "code",
   "execution_count": 4,
   "metadata": {
    "id": "s_bNap85cOVq"
   },
   "outputs": [],
   "source": [
    "# load test\n",
    "df_test = pd.read_csv('test.csv')\n",
    "test_y = df_test['Flood'].tolist()\n",
    "test_x = df_test.iloc[:, 1:]\n",
    "# test_x = test_x.to_numpy()"
   ]
  },
  {
   "cell_type": "code",
   "execution_count": 5,
   "metadata": {
    "colab": {
     "base_uri": "https://localhost:8080/"
    },
    "id": "qsg12Oe8o4XZ",
    "outputId": "fed7f0d0-d539-4e45-e73b-c0a2705d134e"
   },
   "outputs": [
    {
     "name": "stdout",
     "output_type": "stream",
     "text": [
      "0.4 0.6\n"
     ]
    }
   ],
   "source": [
    "\n",
    "N = 1500 # Number of persons in population\n",
    "# D = len(train_x.columns) # Number of features in dataset\n",
    "D = train_x.shape[1]\n",
    "g = 10 # Number of generations\n",
    "c = 0.6 # Self Introspection factor\n",
    "r0 = 1\n",
    "r1 = 0.4\n",
    "r2 = 0.6\n",
    "print(r1, r2)"
   ]
  },
  {
   "cell_type": "code",
   "execution_count": 6,
   "metadata": {
    "colab": {
     "base_uri": "https://localhost:8080/"
    },
    "id": "HzWAvPa1tmRf",
    "outputId": "0dfef39b-8f20-42c3-e710-17e5d03cb558"
   },
   "outputs": [
    {
     "data": {
      "text/plain": [
       "(541, 11)"
      ]
     },
     "execution_count": 6,
     "metadata": {},
     "output_type": "execute_result"
    }
   ],
   "source": [
    "fitness = np.zeros(N)\n",
    "test_x.shape"
   ]
  },
  {
   "cell_type": "code",
   "execution_count": 7,
   "metadata": {
    "id": "88e0QoQbbkMv"
   },
   "outputs": [],
   "source": [
    "population = np.random.choice([0,1,2,3,4,5,6,7,8,9], (N,D), p=[0.16, 0.16, 0.16, 0.16, 0.16, 0.04, 0.04, 0.04, 0.04, 0.04])"
   ]
  },
  {
   "cell_type": "code",
   "execution_count": 8,
   "metadata": {
    "id": "cUyr1S-Br280"
   },
   "outputs": [],
   "source": [
    "from sklearn.svm import SVC\n",
    "from sklearn.pipeline import make_pipeline\n",
    "from sklearn.preprocessing import StandardScaler\n",
    "global classifier\n",
    "classifier = make_pipeline(StandardScaler(), SVC(gamma='auto'))\n",
    "select = train_x.columns\n",
    "selectno = len(train_x.columns)\n",
    "classifier.fit(train_x.to_numpy(), train_y)\n",
    "select_acc = classifier.score(test_x.to_numpy(), test_y) \n",
    "def fitness_function(pop):  #Fitness Function\n",
    "  \n",
    "  for i in range(N):\n",
    "    new_train_x = train_x\n",
    "    new_test_x = test_x\n",
    "    \n",
    "    global select\n",
    "    global selectno\n",
    "    global select_acc\n",
    "    \n",
    "    new_train_x = new_train_x.drop(train_x.columns[pop[i] < 4], axis = 1)\n",
    "        \n",
    "    new_test_x = new_test_x.drop(test_x.columns[pop[i] < 4], axis = 1)\n",
    "        \n",
    "    classifier.fit(new_train_x, train_y)  \n",
    "    fitness[i] = classifier.score(new_test_x, test_y) \n",
    "    if (fitness[i] > select_acc):\n",
    "      select = new_train_x.columns\n",
    "      # print(select.shape)\n",
    "      selectno = new_train_x.shape[1]\n",
    "      select_acc = fitness[i]\n",
    "    elif fitness[i] == select_acc and new_train_x.shape[1] < selectno:\n",
    "      select = new_train_x.columns\n",
    "      selectno = new_train_x.shape[1]\n",
    "      \n",
    "    print(\"\\nPerson \"+ str(i+1))\n",
    "    print('column: ', new_train_x.columns)\n",
    "    print(\"No. of Features Used = \"+ str(new_train_x.shape[1])+ \"/\"+str(D)+\"\\nFitness = \" + str(fitness[i]))\n",
    "    print(\"Feature Used = \", end = \" \") \n",
    "    \n",
    "    #print(new_train_x.columns)\n",
    "\n",
    "    print(new_train_x.shape[1])"
   ]
  },
  {
   "cell_type": "code",
   "execution_count": 9,
   "metadata": {
    "colab": {
     "base_uri": "https://localhost:8080/"
    },
    "id": "FcHO4VM7r2_L",
    "outputId": "1bf3cd33-5722-4788-a6d3-c0b43992e82f"
   },
   "outputs": [
    {
     "data": {
      "text/plain": [
       "0.9870609981515711"
      ]
     },
     "execution_count": 9,
     "metadata": {},
     "output_type": "execute_result"
    }
   ],
   "source": [
    "select_acc"
   ]
  },
  {
   "cell_type": "code",
   "execution_count": 10,
   "metadata": {
    "colab": {
     "base_uri": "https://localhost:8080/"
    },
    "id": "vvW339dIuEiy",
    "outputId": "0279c9cc-1a3b-4375-8c28-139af2aa5dac"
   },
   "outputs": [
    {
     "name": "stdout",
     "output_type": "stream",
     "text": [
      "Best fitness value for the generation = 0.0 Person 1\n",
      "\n"
     ]
    },
    {
     "data": {
      "text/plain": [
       "0.977818853974122"
      ]
     },
     "execution_count": 10,
     "metadata": {},
     "output_type": "execute_result"
    }
   ],
   "source": [
    "gbest = 0\n",
    "gbest_i = 0\n",
    "def find_gbest():\n",
    "  gbest = max(fitness)#This can be any function\n",
    "  gbest_i = fitness.argmax()\n",
    "  print(\"Best fitness value for the generation = \"+str(gbest) + \" Person \" + str(gbest_i+1)+\"\\n\")\n",
    "find_gbest()\n",
    "\n",
    "def cal_fitness(person):\n",
    "  new_train_x = train_x\n",
    "  \n",
    "  new_test_x = test_x\n",
    "\n",
    "  new_train_x = new_train_x.drop(train_x.columns[person < 4], axis = 1)\n",
    "      \n",
    "  new_test_x = new_test_x.drop(test_x.columns[person < 4], axis = 1)\n",
    "      \n",
    "  classifier.fit(new_train_x.to_numpy(), train_y)  \n",
    "  return classifier.score(new_test_x.to_numpy(), test_y)\n",
    "\n",
    "cal_fitness(population[0])"
   ]
  },
  {
   "cell_type": "code",
   "execution_count": null,
   "metadata": {
    "id": "7eEzc5AyuElH"
   },
   "outputs": [],
   "source": []
  },
  {
   "cell_type": "code",
   "execution_count": 11,
   "metadata": {
    "id": "YTSLWzJAuEni"
   },
   "outputs": [],
   "source": [
    "def mutate():\n",
    "  gworst_i = fitness.argmin()\n",
    "  gworst = min(fitness)\n",
    "  mut = np.random.randint(0,2,size=(1,D))[0]\n",
    "  print(\"Mutating the Generation's Worst....Person \"+ str(gworst_i+1))\n",
    "  for i in range(D):\n",
    "    if mut[i] > 0:\n",
    "      mut[i] = population[gbest_i][i]\n",
    "    else:\n",
    "      mut[i] = population[gworst_i][i]\n",
    "  if cal_fitness(mut) > gworst:\n",
    "    population[gworst_i] = mut\n",
    "    print(\"Person \"+str(gworst_i)+\" mutated\")\n",
    "  else:\n",
    "    print(\"No Mutations in this generation\")"
   ]
  },
  {
   "cell_type": "code",
   "execution_count": null,
   "metadata": {
    "id": "ldrv7C7ZuEpp"
   },
   "outputs": [],
   "source": []
  },
  {
   "cell_type": "code",
   "execution_count": 12,
   "metadata": {
    "id": "2w3b4R5fvFDF"
   },
   "outputs": [],
   "source": [
    "## Improving Phase\n",
    "# i = 1\n",
    "def improve():\n",
    "  print(\"Improving.......\")\n",
    "  for i in range(N):\n",
    "    Xnew = population[i]\n",
    "    print('Persona '+ str(i+1))\n",
    "    for j in range(D):\n",
    "      Xnew[j] = c * population[i][j] + r0 * (population[gbest_i][j] - population[i][j])\n",
    "    try:\n",
    "      if cal_fitness(Xnew) > fitness[i]:\n",
    "        population[i] = Xnew\n",
    "    except:\n",
    "      print(\"Oops!\", sys.exc_info()[0], \"occurred.\")\n",
    "      print(\"Next entry.\")"
   ]
  },
  {
   "cell_type": "code",
   "execution_count": null,
   "metadata": {
    "id": "vZuTf8X7vFFe"
   },
   "outputs": [],
   "source": []
  },
  {
   "cell_type": "code",
   "execution_count": 13,
   "metadata": {
    "id": "bDn8vxAgvFHn"
   },
   "outputs": [],
   "source": [
    "\n",
    "## Acquiring Phase\n",
    "def acquire():\n",
    "  random_person = np.random.randint(low=0, high=N)\n",
    "  for i in range(N):\n",
    "    if random_person == i:\n",
    "      random_person = np.random.randint(low=0, high=N)\n",
    "      i = i - 1\n",
    "      continue\n",
    "    X_new = population[i]\n",
    "    if fitness[random_person] > fitness[i]:\n",
    "      for j in range(D):\n",
    "        X_new[j] = population[i][j] + r1*(population[random_person][j]-population[i][j]) + r2*(population[gbest_i][j]-population[i][j])\n",
    "      if cal_fitness(X_new) > fitness[i]:\n",
    "        population[i] = X_new\n",
    "    else:\n",
    "      for j in range(D):\n",
    "        X_new[j] = population[i][j] + r1*(population[i][j]-population[random_person][j]) + r2*(population[gbest_i][j]-population[i][j])\n",
    "      if cal_fitness(X_new) > fitness[i]:\n",
    "        population[i] = X_new"
   ]
  },
  {
   "cell_type": "code",
   "execution_count": null,
   "metadata": {
    "id": "L8upZVQCvFKA"
   },
   "outputs": [],
   "source": []
  },
  {
   "cell_type": "code",
   "execution_count": 14,
   "metadata": {
    "colab": {
     "base_uri": "https://localhost:8080/"
    },
    "id": "AnXuuLedtBuZ",
    "outputId": "d68c4a40-f13e-4ca9-c300-a9ac9be0675d"
   },
   "outputs": [
    {
     "name": "stdout",
     "output_type": "stream",
     "text": [
      "Generation 1\n",
      "---------------\n",
      "\n",
      "Person 1\n",
      "column:  Index(['CTI', 'Distance_river', 'Distance_road', 'Landuse2005',\n",
      "       'Rainfall2005'],\n",
      "      dtype='object')\n",
      "No. of Features Used = 5/11\n",
      "Fitness = 0.977818853974122\n",
      "Feature Used =  5\n",
      "\n",
      "Person 2\n",
      "column:  Index(['CTI', 'Curvature', 'Distance_river', 'Distance_road', 'Landuse2005',\n",
      "       'Slope', 'SPI'],\n",
      "      dtype='object')\n",
      "No. of Features Used = 7/11\n",
      "Fitness = 0.9870609981515711\n",
      "Feature Used =  7\n",
      "\n",
      "Person 3\n",
      "column:  Index(['CTI', 'Distance_river', 'Distance_road', 'Landuse2005'], dtype='object')\n",
      "No. of Features Used = 4/11\n",
      "Fitness = 0.9852125693160814\n",
      "Feature Used =  4\n",
      "\n",
      "Person 4\n",
      "column:  Index(['SPI'], dtype='object')\n",
      "No. of Features Used = 1/11\n",
      "Fitness = 0.9186691312384473\n",
      "Feature Used =  1\n",
      "\n",
      "Person 5\n",
      "column:  Index(['Curvature', 'Distance_river', 'SPI'], dtype='object')\n",
      "No. of Features Used = 3/11\n",
      "Fitness = 0.9630314232902033\n",
      "Feature Used =  3\n",
      "\n",
      "Person 6\n",
      "column:  Index(['CTI', 'SPI'], dtype='object')\n",
      "No. of Features Used = 2/11\n",
      "Fitness = 0.9833641404805915\n",
      "Feature Used =  2\n",
      "\n",
      "........................\n",
      "Optimal Solution Reached\n",
      "........................\n"
     ]
    }
   ],
   "source": [
    "try:\n",
    "  for k in range(g):\n",
    "    print(\"Generation \"+ str(k+1) + \"\\n---------------\")\n",
    "    fitness_function(population)\n",
    "    find_gbest()\n",
    "    mutate()\n",
    "    improve()\n",
    "    acquire() \n",
    "except:\n",
    "  print()\n",
    "  print(\"........................\")\n",
    "  print(\"Optimal Solution Reached\")\n",
    "  print(\"........................\")"
   ]
  },
  {
   "cell_type": "code",
   "execution_count": null,
   "metadata": {},
   "outputs": [],
   "source": []
  }
 ],
 "metadata": {
  "accelerator": "GPU",
  "colab": {
   "collapsed_sections": [],
   "name": "HSGO.ipynb",
   "provenance": []
  },
  "kernelspec": {
   "display_name": "Python 3",
   "language": "python",
   "name": "python3"
  },
  "language_info": {
   "codemirror_mode": {
    "name": "ipython",
    "version": 3
   },
   "file_extension": ".py",
   "mimetype": "text/x-python",
   "name": "python",
   "nbconvert_exporter": "python",
   "pygments_lexer": "ipython3",
   "version": "3.7.6"
  }
 },
 "nbformat": 4,
 "nbformat_minor": 1
}
